{
  "metadata": {
    "kernelspec": {
      "language": "python",
      "display_name": "Python 3",
      "name": "python3"
    },
    "language_info": {
      "name": "python",
      "version": "3.10.13",
      "mimetype": "text/x-python",
      "codemirror_mode": {
        "name": "ipython",
        "version": 3
      },
      "pygments_lexer": "ipython3",
      "nbconvert_exporter": "python",
      "file_extension": ".py"
    },
    "kaggle": {
      "accelerator": "none",
      "dataSources": [
        {
          "sourceId": 75201,
          "databundleVersionId": 8258007,
          "sourceType": "competition"
        }
      ],
      "dockerImageVersionId": 30698,
      "isInternetEnabled": false,
      "language": "python",
      "sourceType": "notebook",
      "isGpuEnabled": false
    },
    "colab": {
      "provenance": [],
      "include_colab_link": true
    }
  },
  "nbformat_minor": 0,
  "nbformat": 4,
  "cells": [
    {
      "cell_type": "markdown",
      "metadata": {
        "id": "view-in-github",
        "colab_type": "text"
      },
      "source": [
        "<a href=\"https://colab.research.google.com/github/read-my-name/data-analysis/blob/main/Telecom_Customer_Churn_Analysis_and_Prediction_v2.ipynb\" target=\"_parent\"><img src=\"https://colab.research.google.com/assets/colab-badge.svg\" alt=\"Open In Colab\"/></a>"
      ]
    },
    {
      "source": [
        "\n",
        "# IMPORTANT: RUN THIS CELL IN ORDER TO IMPORT YOUR KAGGLE DATA SOURCES\n",
        "# TO THE CORRECT LOCATION (/kaggle/input) IN YOUR NOTEBOOK,\n",
        "# THEN FEEL FREE TO DELETE THIS CELL.\n",
        "# NOTE: THIS NOTEBOOK ENVIRONMENT DIFFERS FROM KAGGLE'S PYTHON\n",
        "# ENVIRONMENT SO THERE MAY BE MISSING LIBRARIES USED BY YOUR\n",
        "# NOTEBOOK.\n",
        "\n",
        "import os\n",
        "import sys\n",
        "from tempfile import NamedTemporaryFile\n",
        "from urllib.request import urlopen\n",
        "from urllib.parse import unquote, urlparse\n",
        "from urllib.error import HTTPError\n",
        "from zipfile import ZipFile\n",
        "import tarfile\n",
        "import shutil\n",
        "\n",
        "CHUNK_SIZE = 40960\n",
        "DATA_SOURCE_MAPPING = 'public-telecom-customer-churn-analysis-and-prediction:https%3A%2F%2Fstorage.googleapis.com%2Fkaggle-competitions-data%2Fkaggle-v2%2F75201%2F8258007%2Fbundle%2Farchive.zip%3FX-Goog-Algorithm%3DGOOG4-RSA-SHA256%26X-Goog-Credential%3Dgcp-kaggle-com%2540kaggle-161607.iam.gserviceaccount.com%252F20240421%252Fauto%252Fstorage%252Fgoog4_request%26X-Goog-Date%3D20240421T032039Z%26X-Goog-Expires%3D259200%26X-Goog-SignedHeaders%3Dhost%26X-Goog-Signature%3D094db0c22077665d1db358fe6a8d36e7ab14c9830b13ecf824e77cb5c9dc310dd1a1bbb76dff5ef908c623be0f92d00c52ab8f26fbf9f77283e84171e8715a2d0c633b9cfe5b4a729ccf3b1e5879f9af287d4f7fb2c666a3b112a03145dc1e2d19fd7947796c1ed3f272604a7f9e00b2cd559de95e91717bf2c9336ebd280fe185086a780e6e0454e1ebca41d542fa28aa9262164ea7923651926fce353b6456e8e61ccc04213147ce83c28b224b853ee0cc4cdd25e4f208a32ff0b7f2401130ab0b67215f00fc788041fc56aa991bc3e18a2bba668630788c829147917981085883cd5d550681c0ae9f20693d7541b037e6e7cd503fc924acd752a48487171e'\n",
        "\n",
        "KAGGLE_INPUT_PATH='/kaggle/input'\n",
        "KAGGLE_WORKING_PATH='/kaggle/working'\n",
        "KAGGLE_SYMLINK='kaggle'\n",
        "\n",
        "!umount /kaggle/input/ 2> /dev/null\n",
        "shutil.rmtree('/kaggle/input', ignore_errors=True)\n",
        "os.makedirs(KAGGLE_INPUT_PATH, 0o777, exist_ok=True)\n",
        "os.makedirs(KAGGLE_WORKING_PATH, 0o777, exist_ok=True)\n",
        "\n",
        "try:\n",
        "  os.symlink(KAGGLE_INPUT_PATH, os.path.join(\"..\", 'input'), target_is_directory=True)\n",
        "except FileExistsError:\n",
        "  pass\n",
        "try:\n",
        "  os.symlink(KAGGLE_WORKING_PATH, os.path.join(\"..\", 'working'), target_is_directory=True)\n",
        "except FileExistsError:\n",
        "  pass\n",
        "\n",
        "for data_source_mapping in DATA_SOURCE_MAPPING.split(','):\n",
        "    directory, download_url_encoded = data_source_mapping.split(':')\n",
        "    download_url = unquote(download_url_encoded)\n",
        "    filename = urlparse(download_url).path\n",
        "    destination_path = os.path.join(KAGGLE_INPUT_PATH, directory)\n",
        "    try:\n",
        "        with urlopen(download_url) as fileres, NamedTemporaryFile() as tfile:\n",
        "            total_length = fileres.headers['content-length']\n",
        "            print(f'Downloading {directory}, {total_length} bytes compressed')\n",
        "            dl = 0\n",
        "            data = fileres.read(CHUNK_SIZE)\n",
        "            while len(data) > 0:\n",
        "                dl += len(data)\n",
        "                tfile.write(data)\n",
        "                done = int(50 * dl / int(total_length))\n",
        "                sys.stdout.write(f\"\\r[{'=' * done}{' ' * (50-done)}] {dl} bytes downloaded\")\n",
        "                sys.stdout.flush()\n",
        "                data = fileres.read(CHUNK_SIZE)\n",
        "            if filename.endswith('.zip'):\n",
        "              with ZipFile(tfile) as zfile:\n",
        "                zfile.extractall(destination_path)\n",
        "            else:\n",
        "              with tarfile.open(tfile.name) as tarfile:\n",
        "                tarfile.extractall(destination_path)\n",
        "            print(f'\\nDownloaded and uncompressed: {directory}')\n",
        "    except HTTPError as e:\n",
        "        print(f'Failed to load (likely expired) {download_url} to path {destination_path}')\n",
        "        continue\n",
        "    except OSError as e:\n",
        "        print(f'Failed to load {download_url} to path {destination_path}')\n",
        "        continue\n",
        "\n",
        "print('Data source import complete.')\n"
      ],
      "metadata": {
        "id": "fO25U4iAq5h4"
      },
      "cell_type": "code",
      "outputs": [],
      "execution_count": null
    },
    {
      "cell_type": "code",
      "source": [
        "# import required library\n",
        "#Data Structures\n",
        "import pandas as pd\n",
        "import numpy as np\n",
        "import re\n",
        "import os\n",
        "\n",
        "### For installing missingno library, type this command in terminal\n",
        "#pip install missingno\n",
        "\n",
        "import missingno as msno\n",
        "\n",
        "#Sklearn\n",
        "from sklearn.impute import SimpleImputer\n",
        "from sklearn.preprocessing import StandardScaler\n",
        "from sklearn.model_selection import train_test_split\n",
        "from sklearn.ensemble import RandomForestClassifier\n",
        "from sklearn.decomposition import PCA\n",
        "from sklearn.manifold import TSNE\n",
        "from sklearn.linear_model import LogisticRegression\n",
        "from sklearn.pipeline import Pipeline\n",
        "from sklearn.model_selection import GridSearchCV\n",
        "from sklearn.metrics import confusion_matrix, precision_score, recall_score\n",
        "from sklearn.preprocessing import LabelEncoder\n",
        "\n",
        "#Plotting\n",
        "import matplotlib.pyplot as plt\n",
        "from mpl_toolkits.mplot3d import Axes3D\n",
        "import seaborn as sns"
      ],
      "metadata": {
        "trusted": true,
        "id": "waDJhOJTq5h-"
      },
      "execution_count": null,
      "outputs": []
    },
    {
      "cell_type": "code",
      "source": [
        "# Step 1: Data Loading and Initial Exploration\n",
        "\n",
        "df = pd.read_csv(\"/kaggle/input/public-telecom-customer-churn-analysis-and-prediction/train_data.csv\")\n",
        "train_data = pd.read_csv(\"/kaggle/input/public-telecom-customer-churn-analysis-and-prediction/test_data.csv\")"
      ],
      "metadata": {
        "trusted": true,
        "id": "YQ1jdhd1q5iA"
      },
      "execution_count": null,
      "outputs": []
    },
    {
      "cell_type": "code",
      "source": [
        "df.info()"
      ],
      "metadata": {
        "trusted": true,
        "id": "i2sJEoAPq5iA"
      },
      "execution_count": null,
      "outputs": []
    },
    {
      "cell_type": "code",
      "source": [
        "df.sample(4)"
      ],
      "metadata": {
        "trusted": true,
        "id": "YHb-Dhhiq5iB"
      },
      "execution_count": null,
      "outputs": []
    },
    {
      "cell_type": "code",
      "source": [
        "# customer id is unique id\n",
        "df['CustomerID'].nunique()"
      ],
      "metadata": {
        "trusted": true,
        "id": "jz1jisyOq5iB"
      },
      "execution_count": null,
      "outputs": []
    },
    {
      "cell_type": "code",
      "source": [
        "x = df.drop(['CustomerID', 'Surname'],axis=1).iloc[:,:-1]\n",
        "\n",
        "y = df.iloc[:,-1]\n",
        "\n",
        "x.shape, y.shape"
      ],
      "metadata": {
        "trusted": true,
        "id": "ChqNjC2hq5iC"
      },
      "execution_count": null,
      "outputs": []
    },
    {
      "cell_type": "code",
      "source": [
        "# Initialize LabelEncoder\n",
        "label_encoder = LabelEncoder()\n",
        "\n",
        "# Apply label encoding to categorical columns\n",
        "x['Region'] = label_encoder.fit_transform(x['Region'])\n",
        "x['Gender'] = label_encoder.fit_transform(x['Gender'])\n",
        "\n",
        "# Print data types to verify the changes\n",
        "x.dtypes"
      ],
      "metadata": {
        "trusted": true,
        "id": "JpXZP3Myq5iD"
      },
      "execution_count": null,
      "outputs": []
    },
    {
      "cell_type": "code",
      "source": [
        "x_train, x_test, y_train, y_test = train_test_split(x, y, test_size=0.2)\n",
        "\n",
        "x_train.shape, x_test.shape, y_train.shape, y_test.shape"
      ],
      "metadata": {
        "trusted": true,
        "id": "0wjHFWM8q5iE"
      },
      "execution_count": null,
      "outputs": []
    },
    {
      "cell_type": "code",
      "source": [
        "x_train.head()"
      ],
      "metadata": {
        "trusted": true,
        "id": "ynrmkfK-q5iF"
      },
      "execution_count": null,
      "outputs": []
    },
    {
      "cell_type": "code",
      "source": [
        "msno.bar(x_train)"
      ],
      "metadata": {
        "trusted": true,
        "id": "Zd2cNvcuq5iF"
      },
      "execution_count": null,
      "outputs": []
    },
    {
      "cell_type": "code",
      "source": [
        "missing_data_percent = 100*x_train.isnull().sum()/len(y_train)\n",
        "missing_data_percent"
      ],
      "metadata": {
        "trusted": true,
        "id": "SY62ipPUq5iF"
      },
      "execution_count": null,
      "outputs": []
    },
    {
      "cell_type": "code",
      "source": [
        "x_train_filtered = x_train\n",
        "x_train_filtered.shape"
      ],
      "metadata": {
        "trusted": true,
        "id": "t2ORQsF_q5iG"
      },
      "execution_count": null,
      "outputs": []
    },
    {
      "cell_type": "code",
      "source": [
        "# Impute missing values with mean for numerical columns\n",
        "x_train_filtered['NetworkScore'].fillna(x_train_filtered['NetworkScore'].mean(), inplace=True)\n",
        "x_train_filtered['Age'].fillna(x_train_filtered['Age'].mean(), inplace=True)\n",
        "x_train_filtered['EstimatedMonthlyUsage'].fillna(x_train_filtered['EstimatedMonthlyUsage'].mean(), inplace=True)\n",
        "\n",
        "# Set a constant value for missing values in 'IsActiveMember' column\n",
        "x_train_filtered['IsActiveMember'].fillna(0, inplace=True)  # Assuming 0 represents 'NoActive'"
      ],
      "metadata": {
        "trusted": true,
        "id": "Ts6s3hQYq5iG"
      },
      "execution_count": null,
      "outputs": []
    },
    {
      "cell_type": "code",
      "source": [
        "msno.bar(x_train_filtered)"
      ],
      "metadata": {
        "trusted": true,
        "id": "f9XptEZlq5iG"
      },
      "execution_count": null,
      "outputs": []
    },
    {
      "cell_type": "code",
      "source": [
        "plt.figure(figsize=(15,8))\n",
        "plt.xticks(rotation=45)\n",
        "sns.boxplot(data = x_train_filtered)"
      ],
      "metadata": {
        "trusted": true,
        "id": "YqcalkZ1q5iG"
      },
      "execution_count": null,
      "outputs": []
    },
    {
      "cell_type": "code",
      "source": [
        "x_train_filtered.info()"
      ],
      "metadata": {
        "trusted": true,
        "id": "mhtxyIxJq5iG"
      },
      "execution_count": null,
      "outputs": []
    },
    {
      "cell_type": "code",
      "source": [
        "# Select columns that are not numeric\n",
        "non_numeric_columns = x_train_filtered.select_dtypes(exclude=['number']).columns.tolist()\n",
        "\n",
        "# Display the list of non-numeric columns\n",
        "print(\"Non-numeric columns:\", non_numeric_columns)"
      ],
      "metadata": {
        "trusted": true,
        "id": "gl36FkDYq5iH"
      },
      "execution_count": null,
      "outputs": []
    },
    {
      "cell_type": "code",
      "source": [
        "# Initialize LabelEncoder\n",
        "label_encoder = LabelEncoder()\n",
        "\n",
        "# Apply label encoding to categorical columns\n",
        "x_train_filtered['Region'] = label_encoder.fit_transform(x_train_filtered['Region'])\n",
        "x_train_filtered['Gender'] = label_encoder.fit_transform(x_train_filtered['Gender'])\n",
        "\n",
        "# Print data types to verify the changes\n",
        "x_train_filtered.dtypes"
      ],
      "metadata": {
        "trusted": true,
        "id": "DdJ5EUq6q5iH"
      },
      "execution_count": null,
      "outputs": []
    },
    {
      "cell_type": "code",
      "source": [
        "scale = StandardScaler()\n",
        "x_train_filtered1 = scale.fit_transform(x_train_filtered)"
      ],
      "metadata": {
        "trusted": true,
        "id": "a-RglbZ2q5iH"
      },
      "execution_count": null,
      "outputs": []
    },
    {
      "cell_type": "code",
      "source": [
        "# Extract column names from the DataFrame\n",
        "new_vars = list(x_train_filtered.columns)\n",
        "\n",
        "# Print the list of column names (labels)\n",
        "print(new_vars)"
      ],
      "metadata": {
        "trusted": true,
        "id": "CZrrF6Nhq5iH"
      },
      "execution_count": null,
      "outputs": []
    },
    {
      "cell_type": "code",
      "source": [
        "plt.figure(figsize=(15,8))\n",
        "plt.xticks(rotation=45)\n",
        "sns.boxplot(data = pd.DataFrame(x_train_filtered1, columns=new_vars))"
      ],
      "metadata": {
        "trusted": true,
        "id": "mDYkd2Saq5iH"
      },
      "execution_count": null,
      "outputs": []
    },
    {
      "cell_type": "code",
      "source": [
        "plt.figure(figsize=(10,8))\n",
        "sns.heatmap(pd.DataFrame(x_train_filtered1, columns=new_vars).corr())"
      ],
      "metadata": {
        "trusted": true,
        "id": "piMONFbSq5iI"
      },
      "execution_count": null,
      "outputs": []
    },
    {
      "cell_type": "code",
      "source": [
        "#Distribution for the churn probability\n",
        "sns.histplot(y_train)"
      ],
      "metadata": {
        "trusted": true,
        "id": "tAfpx7f8q5iI"
      },
      "execution_count": null,
      "outputs": []
    },
    {
      "cell_type": "code",
      "source": [
        "rf = RandomForestClassifier(n_estimators=100, n_jobs=-1)\n",
        "rf.fit(x_train_filtered1, y_train)"
      ],
      "metadata": {
        "trusted": true,
        "id": "Cd44AAYxq5iI"
      },
      "execution_count": null,
      "outputs": []
    },
    {
      "cell_type": "code",
      "source": [
        "# Predictions on the test data\n",
        "y_pred = rf.predict(x_test)\n",
        "\n",
        "# Evaluate the model\n",
        "accuracy = metrics.accuracy_score(y_test, y_pred)\n",
        "precision = metrics.precision_score(y_test, y_pred)\n",
        "recall = metrics.recall_score(y_test, y_pred)\n",
        "f1_score = metrics.f1_score(y_test, y_pred)\n",
        "\n",
        "print(\"Accuracy:\", accuracy)\n",
        "print(\"Precision:\", precision)\n",
        "print(\"Recall:\", recall)\n",
        "print(\"F1 Score:\", f1_score)"
      ],
      "metadata": {
        "trusted": true,
        "id": "lZasplzNq5iI"
      },
      "execution_count": null,
      "outputs": []
    },
    {
      "cell_type": "code",
      "source": [
        "print('Gradient Boosting Classifier:  {:.2f}'.format(metrics.accuracy_score(y, stratified_cv(X, y, ensemble.GradientBoostingClassifier))))\n",
        "print('Support vector machine(SVM):   {:.2f}'.format(metrics.accuracy_score(y, stratified_cv(X, y, svm.SVC))))\n",
        "print('Random Forest Classifier:      {:.2f}'.format(metrics.accuracy_score(y, stratified_cv(X, y, ensemble.RandomForestClassifier))))\n",
        "print('K Nearest Neighbor Classifier: {:.2f}'.format(metrics.accuracy_score(y, stratified_cv(X, y, neighbors.KNeighborsClassifier))))\n",
        "print('Logistic Regression:           {:.2f}'.format(metrics.accuracy_score(y, stratified_cv(X, y, linear_model.LogisticRegression))))"
      ],
      "metadata": {
        "trusted": true,
        "id": "rPPJ1rz8q5iI"
      },
      "execution_count": null,
      "outputs": []
    }
  ]
}